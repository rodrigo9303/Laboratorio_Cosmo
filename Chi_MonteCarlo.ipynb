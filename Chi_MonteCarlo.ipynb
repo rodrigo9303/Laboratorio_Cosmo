{
 "cells": [
  {
   "cell_type": "code",
   "execution_count": 157,
   "metadata": {},
   "outputs": [],
   "source": [
    "import numpy as np\n",
    "import matplotlib.pyplot as plt\n",
    "from random import uniform\n",
    "%matplotlib inline"
   ]
  },
  {
   "cell_type": "code",
   "execution_count": 164,
   "metadata": {},
   "outputs": [
    {
     "data": {
      "text/plain": [
       "<ErrorbarContainer object of 3 artists>"
      ]
     },
     "execution_count": 164,
     "metadata": {},
     "output_type": "execute_result"
    },
    {
     "data": {
      "image/png": "[encoded data removed]",
      "text/plain": [
       "<Figure size 432x288 with 1 Axes>"
      ]
     },
     "metadata": {},
     "output_type": "display_data"
    }
   ],
   "source": [
    "x = np.array([0, 1, 2, 3, 4, 5, 6])\n",
    "y = np.array([-1, 0.2, 0.9, 2.1, 3.5, 4.2, 5.6])\n",
    "x_err=np.random.normal(0,0.3,len(x))  #(media,sigma,numero de datos)\n",
    "y_err=np.random.normal(0,0.4,len(y))\n",
    "plt.plot(x,y,'o',color='black')\n",
    "plt.errorbar(x,y,yerr=y_err,xerr=x_err, fmt='o',ecolor='black')"
   ]
  },
  {
   "cell_type": "code",
   "execution_count": 165,
   "metadata": {},
   "outputs": [],
   "source": [
    "def modelo(x,a,b):   #se define una funcion y que depende de las variables x,a,b\n",
    "    return a*x+b    #se escribe la forma de la funcion"
   ]
  },
  {
   "cell_type": "code",
   "execution_count": 166,
   "metadata": {},
   "outputs": [],
   "source": [
    "chi2 = lambda a,b:(((y-modelo(x,a,b))**2)/y_err**2).sum()  #se definen a y b con: lambda; son funciones de una linea. add = lambda x, y: x + y, print(add(3, 5)) # Output: 8\n",
    "\n",
    "chi2= np.vectorize(chi2) #vector que contiene la informacion."
   ]
  },
  {
   "cell_type": "code",
   "execution_count": 167,
   "metadata": {},
   "outputs": [],
   "source": [
    "pendiente = np.random.uniform(0,2,200000)\n",
    "ordenada = np.random.uniform(-2,2,200000)"
   ]
  },
  {
   "cell_type": "code",
   "execution_count": 168,
   "metadata": {},
   "outputs": [],
   "source": [
    "chiale = chi2(pendiente,ordenada)   #se obtiene chi con los valores de aleatorios de la pen. y la orden."
   ]
  },
  {
   "cell_type": "code",
   "execution_count": 181,
   "metadata": {},
   "outputs": [
    {
     "name": "stdout",
     "output_type": "stream",
     "text": [
      "Pendiente =            [1.13063173]\n",
      "Ordenada al origen =   [-1.18824428]\n",
      "Chi^2 =                [2.01253811]\n"
     ]
    }
   ],
   "source": [
    "valor_minimo = np.where(chiale == np.min(chiale))\n",
    "a_ajuste = pendiente[valor_minimo]\n",
    "b_ajuste = ordenada[valor_minimo]\n",
    "valor_chiale = chiale[valor_minimo]\n",
    "print ('Pendiente =           ', a_ajuste)\n",
    "print ('Ordenada al origen =  ', b_ajuste)\n",
    "print (r'Chi^2 =               ', valor_chiale)"
   ]
  },
  {
   "cell_type": "code",
   "execution_count": 183,
   "metadata": {},
   "outputs": [
    {
     "data": {
      "image/png": "[encoded data removed]",
      "text/plain": [
       "<Figure size 432x288 with 1 Axes>"
      ]
     },
     "metadata": {},
     "output_type": "display_data"
    }
   ],
   "source": [
    "plt.plot(x, modelo(x, a_ajuste, b_ajuste), linestyle='-', color='r', label=r'Ajuste;  $a=%.4f$, $b=%.2f$' % (a_ajuste,b_ajuste))\n",
    "plt.errorbar(x,y,yerr=y_err,xerr=x_err, fmt='o',ecolor='k',label='Datos')\n",
    "plt.xlabel('x')\n",
    "plt.ylabel('y')\n",
    "legend= plt.legend(loc='upper left', prop={'size':10})"
   ]
  },
  {
   "cell_type": "code",
   "execution_count": null,
   "metadata": {},
   "outputs": [],
   "source": []
  }
 ],
 "metadata": {
  "kernelspec": {
   "display_name": "Python 3",
   "language": "python",
   "name": "python3"
  },
  "language_info": {
   "codemirror_mode": {
    "name": "ipython",
    "version": 3
   },
   "file_extension": ".py",
   "mimetype": "text/x-python",
   "name": "python",
   "nbconvert_exporter": "python",
   "pygments_lexer": "ipython3",
   "version": "3.6.5"
  }
 },
 "nbformat": 4,
 "nbformat_minor": 2
}
