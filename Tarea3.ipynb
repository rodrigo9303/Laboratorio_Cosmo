{
 "cells": [
  {
   "cell_type": "code",
   "execution_count": 20,
   "metadata": {},
   "outputs": [],
   "source": [
    "import scipy.integrate as inte \n",
    "import numpy as np \n",
    "import math \n",
    "import matplotlib.pyplot as plt"
   ]
  },
  {
   "cell_type": "code",
   "execution_count": 21,
   "metadata": {},
   "outputs": [
    {
     "data": {
      "text/plain": [
       "[<matplotlib.lines.Line2D at 0x7fe574c9b828>]"
      ]
     },
     "execution_count": 21,
     "metadata": {},
     "output_type": "execute_result"
    },
    {
     "data": {
      "image/png": "[encoded data removed]",
      "text/plain": [
       "<Figure size 432x288 with 1 Axes>"
      ]
     },
     "metadata": {},
     "output_type": "display_data"
    }
   ],
   "source": [
    "x = np.array([0, 1, 2, 3, 4, 5, 6])\n",
    "y = np.array([-1, 0.2, 0.9, 2.1, 3.5, 4.2, 5.6])\n",
    "x_err=np.random.normal(0,0.3,len(x))  #(media,sigma,numero de datos)\n",
    "y_err=np.random.normal(0,0.4,len(y))\n",
    "plt.plot(x,y,'o',color='black')"
   ]
  },
  {
   "cell_type": "code",
   "execution_count": 22,
   "metadata": {},
   "outputs": [],
   "source": [
    "def modelo(x,a,b):   #se define una funcion y que depende de las variables x,a,b\n",
    "    return a*x+b    #se escribe la forma de la funcion"
   ]
  },
  {
   "cell_type": "code",
   "execution_count": 23,
   "metadata": {},
   "outputs": [],
   "source": [
    "def chicuad(a,b):\n",
    "    chi = (((y-modelo(x,a,b))**2)/y_err**2).sum() \n",
    "    return chi"
   ]
  },
  {
   "cell_type": "code",
   "execution_count": 24,
   "metadata": {},
   "outputs": [],
   "source": [
    "a0 = 0.3\n",
    "b0 = 0.1\n",
    "ancho_a = 0.07\n",
    "ancho_b = 0.05\n",
    "puntos = 1000\n",
    "alist=[]\n",
    "blist=[]\n",
    "alist.append(a0) # agrega un solo elemento al final de la lista. Error común: no devuelve la nueva lista, simplemente modifica el original.\n",
    "blist.append(b0)\n",
    "aceptados=0"
   ]
  },
  {
   "cell_type": "code",
   "execution_count": 25,
   "metadata": {},
   "outputs": [],
   "source": [
    "for a in range(puntos):\n",
    "    olda0=alist[-1]\n",
    "    oldb0=blist[-1]\n",
    "    newpoint1=np.random.normal(olda0,ancho_a)\n",
    "    newpoint2=np.random.normal(oldb0,ancho_b)\n",
    "#  print \"nuevo punto=\",newpoint1,newpoint2\n",
    "    ratio=chicuad(olda0,oldb0)-chicuad(newpoint1,newpoint2)\n",
    "#  print \"radio=\",ratio\n",
    "    if ratio > 0:\n",
    "        alist.append(newpoint1)\n",
    "        blist.append(newpoint2)\n",
    "        aceptados+=1\n",
    "    else:\n",
    "        e=math.exp(ratio/2)\n",
    "        ale=np.random.uniform(0.0,1.0)\n",
    "        if e > ale:\n",
    "            alist.append(newpoint1)\n",
    "            blist.append(newpoint2)\n",
    "            aceptados+=1\n",
    "        else:\n",
    "            alist.append(olda0)\n",
    "            blist.append(oldb0)\n",
    "\n",
    "totales=puntos"
   ]
  },
  {
   "cell_type": "code",
   "execution_count": 26,
   "metadata": {},
   "outputs": [
    {
     "name": "stdout",
     "output_type": "stream",
     "text": [
      "aceptados= 459 totales= 1000\n"
     ]
    }
   ],
   "source": [
    "print (\"aceptados=\",aceptados,\"totales=\",totales)"
   ]
  },
  {
   "cell_type": "code",
   "execution_count": 27,
   "metadata": {},
   "outputs": [
    {
     "data": {
      "image/png": "[encoded data removed]",
      "text/plain": [
       "<Figure size 432x288 with 1 Axes>"
      ]
     },
     "metadata": {},
     "output_type": "display_data"
    }
   ],
   "source": [
    "plt.scatter(alist,blist)\n",
    "plt.show()"
   ]
  },
  {
   "cell_type": "code",
   "execution_count": 28,
   "metadata": {},
   "outputs": [
    {
     "data": {
      "image/png": "[encoded data removed]",
      "text/plain": [
       "<Figure size 432x288 with 1 Axes>"
      ]
     },
     "metadata": {},
     "output_type": "display_data"
    }
   ],
   "source": [
    "plt.hist(alist,300)\n",
    "plt.show()"
   ]
  },
  {
   "cell_type": "code",
   "execution_count": 29,
   "metadata": {},
   "outputs": [
    {
     "data": {
      "image/png": "[encoded data removed]",
      "text/plain": [
       "<Figure size 432x288 with 1 Axes>"
      ]
     },
     "metadata": {},
     "output_type": "display_data"
    }
   ],
   "source": [
    "plt.hist(blist,300)\n",
    "plt.show()"
   ]
  },
  {
   "cell_type": "code",
   "execution_count": null,
   "metadata": {},
   "outputs": [],
   "source": []
  }
 ],
 "metadata": {
  "kernelspec": {
   "display_name": "Python 3",
   "language": "python",
   "name": "python3"
  },
  "language_info": {
   "codemirror_mode": {
    "name": "ipython",
    "version": 3
   },
   "file_extension": ".py",
   "mimetype": "text/x-python",
   "name": "python",
   "nbconvert_exporter": "python",
   "pygments_lexer": "ipython3",
   "version": "3.6.5"
  }
 },
 "nbformat": 4,
 "nbformat_minor": 2
}
